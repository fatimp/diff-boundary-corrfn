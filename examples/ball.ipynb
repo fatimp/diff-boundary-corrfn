{
 "cells": [
  {
   "cell_type": "code",
   "execution_count": 6,
   "id": "47e350a9-b849-4e17-a1ed-460dcc866a0d",
   "metadata": {},
   "outputs": [
    {
     "data": {
      "text/plain": [
       "T"
      ]
     },
     "execution_count": 6,
     "metadata": {},
     "output_type": "execute_result"
    },
    {
     "data": {
      "text/plain": [
       "T"
      ]
     },
     "execution_count": 6,
     "metadata": {},
     "output_type": "execute_result"
    },
    {
     "data": {
      "text/plain": [
       "T"
      ]
     },
     "execution_count": 6,
     "metadata": {},
     "output_type": "execute_result"
    },
    {
     "data": {
      "text/plain": [
       "T"
      ]
     },
     "execution_count": 6,
     "metadata": {},
     "output_type": "execute_result"
    }
   ],
   "source": [
    "(asdf:load-system :imago/jupyter)\n",
    "(asdf:load-system :diff-boundary-corrfn)\n",
    "(asdf:load-system :py4cl)\n",
    "(asdf:load-system :array-operations)"
   ]
  },
  {
   "cell_type": "code",
   "execution_count": 2,
   "id": "58f59502-5d84-4d4f-9ab1-1f452b618907",
   "metadata": {},
   "outputs": [
    {
     "data": {
      "text/plain": [
       "T"
      ]
     },
     "execution_count": 2,
     "metadata": {},
     "output_type": "execute_result"
    }
   ],
   "source": [
    "(load\n",
    "  (asdf:system-relative-pathname :diff-boundary-corrfn\n",
    "                                 #p\"examples/functions.lisp\"))"
   ]
  },
  {
   "cell_type": "code",
   "execution_count": 16,
   "id": "2ad30c54-c48a-416b-8d36-41a801c1ae12",
   "metadata": {},
   "outputs": [
    {
     "data": {
      "text/plain": [
       "0.001d0"
      ]
     },
     "execution_count": 16,
     "metadata": {},
     "output_type": "execute_result"
    }
   ],
   "source": [
    ";; These parameters make calculations faster\n",
    "(setq diff-boundary-corrfn:*lattice-elements* 800\n",
    "      diff-boundary-corrfn:*ε-threshold* 1d-3)"
   ]
  },
  {
   "cell_type": "code",
   "execution_count": 19,
   "id": "44da4374-aeb6-4fad-bc33-24b099907195",
   "metadata": {},
   "outputs": [
    {
     "data": {
      "text/plain": [
       "*INTERFACE*"
      ]
     },
     "execution_count": 19,
     "metadata": {},
     "output_type": "execute_result"
    }
   ],
   "source": [
    ";; Calculate interface for 3D ball with radius R=0.2\n",
    "(defparameter *interface* \n",
    "    (diff-boundary-corrfn:interface #'example-functions:ball 3 2d-1))"
   ]
  },
  {
   "cell_type": "code",
   "execution_count": 7,
   "id": "773903a0-5bfa-4d06-ad0a-ea660eda1138",
   "metadata": {},
   "outputs": [
    {
     "data": {
      "text/plain": [
       "*SSS*"
      ]
     },
     "execution_count": 7,
     "metadata": {},
     "output_type": "execute_result"
    }
   ],
   "source": [
    "(defparameter *sss*\n",
    "  (sb-int:with-float-traps-masked\n",
    "    (:divide-by-zero)\n",
    "    (loop for x from 2d-2 to 4.1d-1 by 5d-3 collect\n",
    "          (loop for y from 2d-2 to 4.1d-1 by 5d-3 collect\n",
    "                (diff-boundary-corrfn:surface3 *interface* (list x 0d0 0d0) (list 0d0 y 0d0))))))"
   ]
  },
  {
   "cell_type": "code",
   "execution_count": 20,
   "id": "ddc54d22-3ba7-48f0-85ff-44ef61a1be77",
   "metadata": {},
   "outputs": [
    {
     "data": {
      "text/plain": [
       "*ARRAY*"
      ]
     },
     "execution_count": 20,
     "metadata": {},
     "output_type": "execute_result"
    }
   ],
   "source": [
    ";; Convert F_{sss} to an array and set the upper bound to 60\n",
    "(defparameter *array*\n",
    "  (let* ((length (length *sss*))\n",
    "         (array (make-array (list length length)\n",
    "                            :element-type 'double-float\n",
    "                            :initial-contents *sss*)))\n",
    "    (aops:vectorize* 'double-float\n",
    "        (array)\n",
    "      (min array 60d0))))"
   ]
  },
  {
   "cell_type": "code",
   "execution_count": 13,
   "id": "d003716b-359f-4e26-a00a-adcfee318d8c",
   "metadata": {},
   "outputs": [
    {
     "data": {
      "text/plain": [
       "T"
      ]
     },
     "execution_count": 13,
     "metadata": {},
     "output_type": "execute_result"
    },
    {
     "data": {
      "text/plain": [
       "T"
      ]
     },
     "execution_count": 13,
     "metadata": {},
     "output_type": "execute_result"
    },
    {
     "data": {
      "text/plain": [
       "T"
      ]
     },
     "execution_count": 13,
     "metadata": {},
     "output_type": "execute_result"
    },
    {
     "data": {
      "text/plain": [
       "SLICE"
      ]
     },
     "execution_count": 13,
     "metadata": {},
     "output_type": "execute_result"
    },
    {
     "name": "stdout",
     "output_type": "stream",
     "text": [
      "SB-KERNEL:REDEFINITION-WITH-DEFUN: redefining PLT:ARROW in DEFUN\n",
      "SB-KERNEL:REDEFINITION-WITH-DEFUN: redefining PLT:AXES in DEFUN\n",
      "SB-KERNEL:REDEFINITION-WITH-DEFUN: redefining PLT:FIGURE in DEFUN\n",
      "SB-KERNEL:REDEFINITION-WITH-DEFUN: redefining PLT:SUBPLOT in DEFUN\n",
      "SB-KERNEL:REDEFINITION-WITH-DEFUN: redefining PLT:TEXT in DEFUN\n"
     ]
    }
   ],
   "source": [
    "(py4cl:import-module \"matplotlib.pyplot\" :as \"plt\")\n",
    "(py4cl:import-module \"numpy\" :as \"np\")\n",
    "(py4cl:import-module \"scipy.interpolate\" :as \"inter\")\n",
    "(py4cl:import-function \"slice\")"
   ]
  },
  {
   "cell_type": "code",
   "execution_count": 21,
   "id": "6b897080-fd8d-49a7-ad14-19a02ad60a7a",
   "metadata": {},
   "outputs": [
    {
     "data": {
      "text/plain": [
       "NIL"
      ]
     },
     "execution_count": 21,
     "metadata": {},
     "output_type": "execute_result"
    }
   ],
   "source": [
    ";; Plot F_{sss} function with arguments (x, 0, 0) and (0, y, 0)\n",
    ";; x and y vary from 0.02 to 4.1 by 0.005\n",
    "(let* ((x (np:linspace 0 0.41 (length *sss*)))\n",
    "       (grid (np:meshgrid x x))\n",
    "       (ax (plt:axes '(0 0 1 1) :projection \"3d\")))\n",
    "  (py4cl:chain ax (plot_surface (elt grid 0) (elt grid 1) *array*))\n",
    "  (plt:show))"
   ]
  },
  {
   "cell_type": "code",
   "execution_count": null,
   "id": "5c353173-cab3-421c-99dc-1ba683727dd4",
   "metadata": {},
   "outputs": [],
   "source": []
  }
 ],
 "metadata": {
  "kernelspec": {
   "display_name": "Common Lisp",
   "language": "common-lisp",
   "name": "common-lisp"
  },
  "language_info": {
   "codemirror_mode": "text/x-common-lisp",
   "file_extension": ".lisp",
   "mimetype": "text/x-common-lisp",
   "name": "common-lisp",
   "pygments_lexer": "common-lisp",
   "version": "2.3.2"
  }
 },
 "nbformat": 4,
 "nbformat_minor": 5
}
